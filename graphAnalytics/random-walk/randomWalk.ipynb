{
 "cells": [
  {
   "cell_type": "markdown",
   "metadata": {},
   "source": [
    "## Random Walk Algorithm"
   ]
  },
  {
   "cell_type": "code",
   "execution_count": 5,
   "metadata": {},
   "outputs": [],
   "source": [
    "import matplotlib as mpl\n",
    "import matplotlib.pyplot as plt\n",
    "import networkx as nx"
   ]
  },
  {
   "cell_type": "code",
   "execution_count": 6,
   "metadata": {},
   "outputs": [],
   "source": [
    "G = nx.read_gml(\"./lesmis.gml\")"
   ]
  },
  {
   "cell_type": "code",
   "execution_count": 7,
   "metadata": {},
   "outputs": [
    {
     "ename": "NameError",
     "evalue": "name 'rdm' is not defined",
     "output_type": "error",
     "traceback": [
      "\u001b[0;31m---------------------------------------------------------------------------\u001b[0m",
      "\u001b[0;31mNameError\u001b[0m                                 Traceback (most recent call last)",
      "\u001b[0;32m<ipython-input-7-8f676452eb78>\u001b[0m in \u001b[0;36m<module>\u001b[0;34m\u001b[0m\n\u001b[1;32m      8\u001b[0m \u001b[0;32mwhile\u001b[0m \u001b[0mexecucoes\u001b[0m \u001b[0;34m<\u001b[0m \u001b[0;36m10\u001b[0m\u001b[0;34m:\u001b[0m\u001b[0;34m\u001b[0m\u001b[0;34m\u001b[0m\u001b[0m\n\u001b[1;32m      9\u001b[0m     \u001b[0;31m#Choose a random start node\u001b[0m\u001b[0;34m\u001b[0m\u001b[0;34m\u001b[0m\u001b[0;34m\u001b[0m\u001b[0m\n\u001b[0;32m---> 10\u001b[0;31m     \u001b[0mvertexid\u001b[0m \u001b[0;34m=\u001b[0m \u001b[0mrdm\u001b[0m\u001b[0;34m.\u001b[0m\u001b[0mchoice\u001b[0m\u001b[0;34m(\u001b[0m\u001b[0mG\u001b[0m\u001b[0;34m.\u001b[0m\u001b[0mnodes\u001b[0m\u001b[0;34m(\u001b[0m\u001b[0;34m)\u001b[0m\u001b[0;34m)\u001b[0m\u001b[0;34m\u001b[0m\u001b[0;34m\u001b[0m\u001b[0m\n\u001b[0m\u001b[1;32m     11\u001b[0m     \u001b[0;31m#Dictionary that associate nodes with the amount of times it was visited\u001b[0m\u001b[0;34m\u001b[0m\u001b[0;34m\u001b[0m\u001b[0;34m\u001b[0m\u001b[0m\n\u001b[1;32m     12\u001b[0m     \u001b[0mVisitedVertex\u001b[0m \u001b[0;34m=\u001b[0m \u001b[0;34m{\u001b[0m\u001b[0;34m}\u001b[0m\u001b[0;34m\u001b[0m\u001b[0;34m\u001b[0m\u001b[0m\n",
      "\u001b[0;31mNameError\u001b[0m: name 'rdm' is not defined"
     ]
    }
   ],
   "source": [
    "#Start the counter\n",
    "contador = 0\n",
    "\n",
    "#Start execution counter\n",
    "execucoes = 0\n",
    "\n",
    "#Execute 10 times this command sequence\n",
    "while execucoes < 10:\n",
    "    #Choose a random start node\n",
    "    vertexid = rdm.choice(G.nodes())\n",
    "    #Dictionary that associate nodes with the amount of times it was visited\n",
    "    VisitedVertex = {}\n",
    "\n",
    "    print(\"Execucao #%d\" % (execucoes + 1))\n",
    "    #Execute the random walk with size 10000 (10000 steps)\n",
    "    while contador < 10000: \n",
    "        #Accumulate the amount of times each vertex is visited\n",
    "        if vertexid in VisitedVertex:\n",
    "                VisitedVertex[vertexid] += 1\n",
    "        else:\n",
    "                VisitedVertex[vertexid] = 1\n",
    "        #Visualize the vertex neighborhood\n",
    "        Vertex_Neighbors = G.neighbors(vertexid)\n",
    "        #Choose a vertex from the vertex neighborhood to start the next random walk\n",
    "        vertexid = rdm.choice(Vertex_Neighbors)\n",
    "        #Iteration counter increment\n",
    "        contador = contador + 1\n",
    "\n",
    "    #Organize the vertex list in most visited decrescent order\n",
    "    mostvisited = sorted(VisitedVertex, key = VisitedVertex.get,reverse = True)\n",
    "    #Separate the top 10 most visited vertex\n",
    "    top_10 = mostvisited[:10]\n",
    "    print(top_10)\n",
    "\n",
    "    #Restart the cycle\n",
    "    execucoes = execucoes + 1\n",
    "    contador = 0\n",
    "\n",
    "print(\"Feche a janela de exibicao para encerrar.\")\n",
    "\n",
    "#Draw graph to a window\n",
    "nx.draw_circular(G)\n",
    "\n",
    "plt.savefig('myfig')\n",
    "plt.show()\n"
   ]
  },
  {
   "cell_type": "code",
   "execution_count": null,
   "metadata": {},
   "outputs": [],
   "source": []
  }
 ],
 "metadata": {
  "kernelspec": {
   "display_name": "Python 3",
   "language": "python",
   "name": "python3"
  },
  "language_info": {
   "codemirror_mode": {
    "name": "ipython",
    "version": 3
   },
   "file_extension": ".py",
   "mimetype": "text/x-python",
   "name": "python",
   "nbconvert_exporter": "python",
   "pygments_lexer": "ipython3",
   "version": "3.8.3"
  }
 },
 "nbformat": 4,
 "nbformat_minor": 4
}
